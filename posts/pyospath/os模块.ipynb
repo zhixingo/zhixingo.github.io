{
 "cells": [
  {
   "cell_type": "markdown",
   "metadata": {},
   "source": [
    "# 路径操作<sup>[1]</sup>"
   ]
  },
  {
   "cell_type": "code",
   "execution_count": 1,
   "metadata": {},
   "outputs": [],
   "source": [
    "import os,sys,time,shutil,stat"
   ]
  },
  {
   "cell_type": "markdown",
   "metadata": {},
   "source": [
    "## 获取当前路径\n",
    "路径，在未指出的情况下，一律指的是“绝对路径”，而相对路径，其参照系正是当前路径，脱离了这个参照系，相对路径就什么都不是了。本质上，路径可以描述任何文件或文件夹的位置，从这一角度，路径包括文件路径以及文件夹路径，譬如任给一个路径`E:\\Test\\dy\\`，我可以说它是文件夹`dy\\`的路径，再譬如`E:\\Test\\main.py`，那它就是文件`main.py`的路径，假设我要分离文件路径`E:\\Test\\main.py`为两个部分：`E:\\Test\\`以及`main.py`，前者称为“目录”，后者称为“伪文件”或者干脆称“文件名”，显然它不能称为“文件”是因为一个文件无法脱离位置信息，告诉你一台电脑上有一个名为`file.txt`的文件毫无任何意义，因为都不知道它在哪！同理`E:\\Test\\dy\\`分离为`E:\\Test\\`以及`dy\\`，前者仍称为“目录”，后者称为“伪文件夹”或者干脆称“文件夹名”，有时候，又称“目录”为“基地址”，现在你该清楚目录的含义了。在下面的描述中，你几乎看不到“伪文件”、“伪文件夹”，听着太别扭，我宁愿称其为“不带基地址的文件（夹）”"
   ]
  },
  {
   "cell_type": "code",
   "execution_count": 2,
   "metadata": {},
   "outputs": [
    {
     "data": {
      "text/plain": [
       "'G:\\\\muggledy\\\\anaconda\\\\jupyter\\\\Standard library'"
      ]
     },
     "execution_count": 2,
     "metadata": {},
     "output_type": "execute_result"
    }
   ],
   "source": [
    "os.getcwd() #在任何时候，我们都位于一个具体的文件夹路径下，有时候称为“当前工作路径”，它是相对路径的参照系"
   ]
  },
  {
   "cell_type": "markdown",
   "metadata": {},
   "source": [
    "另外一个常见的变量`sys.path[0]`，它的作用是获取调用python解释器的脚本所在目录，譬如你在桌面上（*C:\\\\Users\\\\Administrator\\\\Desktop*）有一个脚本：\n",
    "```python\n",
    "#mytest.py\n",
    "import sys\n",
    "print(sys.path[0])\n",
    "```\n",
    "执行该脚本`python mytest.py`你将得到脚本所在目录，即`sys.path[0]`的值为`'C:\\\\Users\\\\Administrator\\\\Desktop'`，假设你在其它位置（譬如在*E:\\\\myworld*下）又新建一个脚本并将*mytest.py*作为模块导入（要导入成功，可以将*C:\\\\Users\\\\Administrator\\\\Desktop*添加到*anaconda\\\\Lib\\\\site-packages\\\\xxx.pth*文件中或者`sys.path.append(...)`），然后执行新脚本，你会发现`sys.path[0]`的输出变为`'E:\\\\myworld'`，因此当你执行某个脚本的时候，当前路径自动被添加到搜索路径列表中，于是你才可以导入当前路径下的其它*py*文件，当前路径位于搜索路径的首位因而具有最高优先级，而`sys.path`就是搜索路径列表  \n",
    "注，如果解释器被交互式地调用，即你在交互环境下执行上述*mytest.py*脚本，`sys.path[0]`的输出将为空  \n",
    "\n",
    "要想真正获取脚本所在路径，应当这样做，这总是正确的：\n",
    "```python\n",
    "os.path.realpath(__file__)\n",
    "```"
   ]
  },
  {
   "cell_type": "markdown",
   "metadata": {},
   "source": [
    "## 获取绝对路径\n",
    "给定一个路径字符串`path`，它可能是绝对路径也可能是相对路径（有四种：文件路径、文件夹路径、文件相对路径、文件夹相对路径），要获得其绝对版本，则使用`abspath(path)`函数，在大多数平台下，等同于调用`normpath(join(os.getcwd(),path))`，如果`path`是相对路径，与其参照系`join`之后会被规范化得到相对路径的绝对版本，如果`path`是绝对路径，则`join`的结果就是`path`，最终相当于`normpath(path)`"
   ]
  },
  {
   "cell_type": "code",
   "execution_count": 3,
   "metadata": {},
   "outputs": [
    {
     "name": "stdout",
     "output_type": "stream",
     "text": [
      "G:\\muggledy\\anaconda\\jupyter\\Standard library\n",
      "G:\\muggledy\\anaconda\\jupyter\n"
     ]
    },
    {
     "data": {
      "text/plain": [
       "'G:\\\\muggledy\\\\anaconda\\\\jupyter'"
      ]
     },
     "execution_count": 3,
     "metadata": {},
     "output_type": "execute_result"
    }
   ],
   "source": [
    "print(os.path.abspath('./')) #获得当前文件夹（其相对路径为\"./\"）的绝对化版本\n",
    "print(os.path.abspath('../')) #获取上层文件夹（其相对路径为\"../\"）的绝对化版本\n",
    "os.path.normpath(os.path.join(os.getcwd(),'../'))"
   ]
  },
  {
   "cell_type": "markdown",
   "metadata": {},
   "source": [
    "## 规范化路径\n",
    "首先规范化路径不是绝对化，它不会将一个相对路径转换为绝对路径。规范化做的是，将路径中的冗余分隔符去除以及解释路径字符串中可能出现的`./`和`../`，譬如`A//B`，`A/B/`，`A/./B`和`A/foo/../B`都转换为`A/B`，可见其是一个“智能化”操作（所谓智能，只是对比譬如`split()`函数来说）。在Windows上，它还将正斜杠`/`转换为反斜杠`\\`"
   ]
  },
  {
   "cell_type": "code",
   "execution_count": 4,
   "metadata": {},
   "outputs": [
    {
     "name": "stdout",
     "output_type": "stream",
     "text": [
      "..\n",
      "G:\\muggledy\\anaconda\\jupyter\\Standard library\\../readme.txt\n"
     ]
    },
    {
     "data": {
      "text/plain": [
       "'G:\\\\muggledy\\\\anaconda\\\\jupyter\\\\readme.txt'"
      ]
     },
     "execution_count": 4,
     "metadata": {},
     "output_type": "execute_result"
    }
   ],
   "source": [
    "print(os.path.normpath('../')) #相对路径不会变成绝对路径，但是最后的冗余分隔符被去掉了\n",
    "t=os.path.join(os.getcwd(),'../readme.txt') #当前文件夹路径与上层相对路径下的文件名拼接，得到一个不规范（非法）的路径字符串\n",
    "print(t)\n",
    "os.path.normpath(t) #规范化"
   ]
  },
  {
   "cell_type": "markdown",
   "metadata": {},
   "source": [
    "一般也可以使用`normcase()`，在Windows上，会将路径名中的所有字符转换为小写，并将正斜杠转换为反斜杠，在其他操作系统上，返回路径不变"
   ]
  },
  {
   "cell_type": "markdown",
   "metadata": {},
   "source": [
    "## 获取文件/夹名称\n",
    "使用`basename(path)`获取“伪文件”或“伪文件夹”，特别的，对于文件夹路径，末尾不能有`/`，可以调用`normpath`来去除"
   ]
  },
  {
   "cell_type": "code",
   "execution_count": 5,
   "metadata": {},
   "outputs": [
    {
     "name": "stdout",
     "output_type": "stream",
     "text": [
      "myworld\n"
     ]
    },
    {
     "data": {
      "text/plain": [
       "'os模块.ipynb'"
      ]
     },
     "execution_count": 5,
     "metadata": {},
     "output_type": "execute_result"
    }
   ],
   "source": [
    "print(os.path.basename('D://myworld')) #'D://myworld//'是不行的\n",
    "os.path.basename(os.path.join(os.getcwd(),'os模块.ipynb'))"
   ]
  },
  {
   "cell_type": "markdown",
   "metadata": {},
   "source": [
    "## 获取文件/夹目录\n",
    "要获取文件路径或文件夹路径的目录（基地址），使用`dirname(path)`函数"
   ]
  },
  {
   "cell_type": "code",
   "execution_count": 6,
   "metadata": {},
   "outputs": [
    {
     "name": "stdout",
     "output_type": "stream",
     "text": [
      "G:\\muggledy\\anaconda\\jupyter\\Standard library\n"
     ]
    },
    {
     "data": {
      "text/plain": [
       "'G:\\\\muggledy\\\\anaconda\\\\jupyter'"
      ]
     },
     "execution_count": 6,
     "metadata": {},
     "output_type": "execute_result"
    }
   ],
   "source": [
    "print(os.path.dirname(os.path.join(os.getcwd(),'os模块.ipynb')))\n",
    "os.path.dirname(os.getcwd())"
   ]
  },
  {
   "cell_type": "markdown",
   "metadata": {},
   "source": [
    "## 切割路径\n",
    "`split(path)`函数将路径切分为基地址和名称两部分，返回二元组`(head,tail)`，特别的，要想正确切分文件夹路径，则文件夹路径末尾不能有`/`"
   ]
  },
  {
   "cell_type": "code",
   "execution_count": 13,
   "metadata": {},
   "outputs": [
    {
     "name": "stdout",
     "output_type": "stream",
     "text": [
      "('G:\\\\muggledy\\\\anaconda\\\\jupyter', 'Standard library')\n",
      "('G:\\\\muggledy\\\\anaconda\\\\jupyter\\\\Standard library', '')\n"
     ]
    },
    {
     "data": {
      "text/plain": [
       "('G:\\\\muggledy\\\\anaconda\\\\jupyter', 'readme.txt')"
      ]
     },
     "execution_count": 13,
     "metadata": {},
     "output_type": "execute_result"
    }
   ],
   "source": [
    "print(os.path.split(os.getcwd()))\n",
    "print(os.path.split('G:\\\\muggledy\\\\anaconda\\\\jupyter\\\\Standard library\\\\')) #文件夹路径末尾含有斜杠时，则tail为空\n",
    "os.path.split('G:\\\\muggledy\\\\anaconda\\\\jupyter\\\\readme.txt')"
   ]
  },
  {
   "cell_type": "markdown",
   "metadata": {},
   "source": [
    "注，需要注意的是，无论是`split()`还是`basename()`以及`dirname()`都很“弱智”，它们并不会去检查路径的合法性，仅仅是将路径当作一个字符串然后无脑切割，事实上，它分割基地址与文件/夹名称的方式相当简单，就像这样：\n",
    "```python\n",
    ">>> import re\n",
    ">>> p=re.compile(r'(.*\\\\)([^\\\\]*)')\n",
    ">>> p.findall('D:\\\\myworld\\\\test\\\\')\n",
    "[('D:\\\\myworld\\\\test\\\\', '')]\n",
    ">>> p.findall('D:\\\\myworld\\\\test')\n",
    "[('D:\\\\myworld\\\\', 'test')]\n",
    "```"
   ]
  },
  {
   "cell_type": "markdown",
   "metadata": {},
   "source": [
    "## 分离文件后缀\n",
    "`os.path.splitext(path)`将文件路径中的文件后缀分离出来，函数返回一个二元组，该操作不检查`path`的真实性"
   ]
  },
  {
   "cell_type": "code",
   "execution_count": 12,
   "metadata": {},
   "outputs": [
    {
     "name": "stdout",
     "output_type": "stream",
     "text": [
      "('G:\\\\muggledy\\\\anaconda\\\\jupyter\\\\readme', '.txt')\n"
     ]
    },
    {
     "data": {
      "text/plain": [
       "('./muggledy/x', '.py')"
      ]
     },
     "execution_count": 12,
     "metadata": {},
     "output_type": "execute_result"
    }
   ],
   "source": [
    "print(os.path.splitext('G:\\\\muggledy\\\\anaconda\\\\jupyter\\\\readme.txt'))\n",
    "os.path.splitext('./muggledy/x.py')"
   ]
  },
  {
   "cell_type": "markdown",
   "metadata": {},
   "source": [
    "## 拼接路径字符串\n",
    "`join(path,*paths)`，将`path`与多个`paths`拼接起来，如果某个path分段是绝对路径，在其前面的所有分段将被抛弃"
   ]
  },
  {
   "cell_type": "code",
   "execution_count": 14,
   "metadata": {},
   "outputs": [
    {
     "name": "stdout",
     "output_type": "stream",
     "text": [
      "G:\\muggledy\\anaconda\\jupyter\\Standard library\\../../jupyter\\./Standard library/\n"
     ]
    },
    {
     "data": {
      "text/plain": [
       "'G:\\\\muggledy\\\\anaconda\\\\jupyter\\\\Standard library'"
      ]
     },
     "execution_count": 14,
     "metadata": {},
     "output_type": "execute_result"
    }
   ],
   "source": [
    "t=os.path.join('D:\\\\myworld',os.getcwd(),'../../','jupyter','./Standard library/')\n",
    "print(t)\n",
    "os.path.normpath(t)"
   ]
  },
  {
   "cell_type": "markdown",
   "metadata": {},
   "source": [
    "## 判断是否是文件/夹\n",
    "`isfile(path)`判断路径是否是文件（路径）；`isdir(path)`判断路径是否是文件夹路径。这是智能操作，路径首先必须存在，否则必然返回False"
   ]
  },
  {
   "cell_type": "code",
   "execution_count": 15,
   "metadata": {},
   "outputs": [
    {
     "name": "stdout",
     "output_type": "stream",
     "text": [
      "True\n"
     ]
    },
    {
     "data": {
      "text/plain": [
       "True"
      ]
     },
     "execution_count": 15,
     "metadata": {},
     "output_type": "execute_result"
    }
   ],
   "source": [
    "print(os.path.isfile('G:\\\\muggledy\\\\anaconda\\\\jupyter\\\\readme.txt'))\n",
    "os.path.isdir('G:\\\\muggledy\\\\anaconda\\\\jupyter')"
   ]
  },
  {
   "cell_type": "markdown",
   "metadata": {},
   "source": [
    "## 判断是否是绝对路径\n",
    "`isabs(path)`，该函数并不检查路径的存在性。在Unix上，这意味着它以斜杠开头，在Windows上则以驱动器号后接（反向）斜线开头"
   ]
  },
  {
   "cell_type": "code",
   "execution_count": 16,
   "metadata": {},
   "outputs": [
    {
     "data": {
      "text/plain": [
       "True"
      ]
     },
     "execution_count": 16,
     "metadata": {},
     "output_type": "execute_result"
    }
   ],
   "source": [
    "os.path.isabs('F:\\\\dy') #这个路径并不存在"
   ]
  },
  {
   "cell_type": "markdown",
   "metadata": {},
   "source": [
    "## 上次访问时间\n",
    "`getatime(path)`获取上次访问（access）文件/夹路径的时间，返回自纪元1970年开始的秒数（时间戳），一个浮点数，使用`time.ctime()`将其转换为年月日时间"
   ]
  },
  {
   "cell_type": "code",
   "execution_count": 22,
   "metadata": {},
   "outputs": [
    {
     "name": "stdout",
     "output_type": "stream",
     "text": [
      "1645533607.2807572 Tue Feb 22 20:40:07 2022\n"
     ]
    }
   ],
   "source": [
    "t=os.path.getatime(os.path.join(os.getcwd(),'os模块.ipynb'))\n",
    "print(t,time.ctime(t))"
   ]
  },
  {
   "cell_type": "markdown",
   "metadata": {},
   "source": [
    "## 上次修改时间\n",
    "`getmtime(path)`获取上次修改（modify）文件/夹路径的时间，返回值同上"
   ]
  },
  {
   "cell_type": "code",
   "execution_count": 23,
   "metadata": {},
   "outputs": [
    {
     "name": "stdout",
     "output_type": "stream",
     "text": [
      "1645533607.8085115 Tue Feb 22 20:40:07 2022\n"
     ]
    }
   ],
   "source": [
    "t=os.path.getmtime(os.getcwd())\n",
    "print(t,time.ctime(t))"
   ]
  },
  {
   "cell_type": "markdown",
   "metadata": {},
   "source": [
    "## 创建时间\n",
    "`getctime(path)`获取文件/夹路径的创建（create）时间"
   ]
  },
  {
   "cell_type": "code",
   "execution_count": 24,
   "metadata": {},
   "outputs": [
    {
     "name": "stdout",
     "output_type": "stream",
     "text": [
      "1545715818.7975712 Tue Dec 25 13:30:18 2018\n"
     ]
    }
   ],
   "source": [
    "t=os.path.getctime(os.getcwd())\n",
    "print(t,time.ctime(t))"
   ]
  },
  {
   "cell_type": "markdown",
   "metadata": {},
   "source": [
    "## 获取文件大小\n",
    "`os.path.getsize(path)`获取文件字节大小，`path`为文件路径"
   ]
  },
  {
   "cell_type": "code",
   "execution_count": 25,
   "metadata": {},
   "outputs": [
    {
     "data": {
      "text/plain": [
       "45340"
      ]
     },
     "execution_count": 25,
     "metadata": {},
     "output_type": "execute_result"
    }
   ],
   "source": [
    "os.path.getsize('./os模块.ipynb') #当前文件字节大小"
   ]
  },
  {
   "cell_type": "markdown",
   "metadata": {},
   "source": [
    "## 最长公共子路径\n",
    "`commonpath(paths)`返回路径列表中全部路径的最长公共子路径，路径仅仅被当作字符串处理，非智能，另外如果`paths`为空或既包含绝对路径又包含相对路径，将引发*ValueError*。另一个函数`commonprefix(list)`返回列表中所有路径的最长路径前缀（逐个字符），如果列表为空，则返回空字符串。两者的区别是，`commonpath()`最终返回一个合法的路径字符串（当然前提是输入参数`paths`中的路径本身就是合法的）"
   ]
  },
  {
   "cell_type": "code",
   "execution_count": 26,
   "metadata": {},
   "outputs": [
    {
     "name": "stdout",
     "output_type": "stream",
     "text": [
      "D:\\daiyang\n"
     ]
    },
    {
     "data": {
      "text/plain": [
       "'D:\\\\daiyang\\\\m'"
      ]
     },
     "execution_count": 26,
     "metadata": {},
     "output_type": "execute_result"
    }
   ],
   "source": [
    "l=['D:\\\\daiyang\\\\muggle\\\\','D:\\\\daiyang\\\\miaosiyu\\\\','D:\\\\daiyang\\\\mnist\\\\']\n",
    "print(os.path.commonpath(l))\n",
    "os.path.commonprefix(l)"
   ]
  },
  {
   "cell_type": "markdown",
   "metadata": {},
   "source": [
    "## 检查路径是否存在\n",
    "如果路径存在或者指向一个打开的文件描述符，`exists(path)`返回True；如果`path`指向一个损坏了的符号链接（其实就是路径不存在的意思），则返回False。在某些平台上，如果未被授予权限对请求的文件执行`os.stat()`，即使路径真实存在，`exists()`函数也会返回False"
   ]
  },
  {
   "cell_type": "code",
   "execution_count": 27,
   "metadata": {},
   "outputs": [
    {
     "name": "stdout",
     "output_type": "stream",
     "text": [
      "True\n"
     ]
    },
    {
     "data": {
      "text/plain": [
       "False"
      ]
     },
     "execution_count": 27,
     "metadata": {},
     "output_type": "execute_result"
    }
   ],
   "source": [
    "print(os.path.exists(os.getcwd()))\n",
    "os.path.exists('F:\\\\xxx.py') #不存在的文件"
   ]
  },
  {
   "cell_type": "markdown",
   "metadata": {},
   "source": [
    "# 文件夹操作<sup>[2]</sup>"
   ]
  },
  {
   "cell_type": "markdown",
   "metadata": {},
   "source": [
    "上一节主要是对路径字符串的操作，但是还没有涉及核心操作，譬如获取当前文件夹路径下的全部文件列表、切换当前路径、创建文件/文件夹路径（实际上就是创建文件以及创建文件夹）、移动文件、复制文件、删除文件等等"
   ]
  },
  {
   "cell_type": "markdown",
   "metadata": {},
   "source": [
    "## 获取文件夹路径下的文件列表\n",
    "`os.listdir(path='.')`，默认路径是当前路径，列表按任意顺序排列，并且不包括特殊条目`.`和`..`，尽管它们确实存在"
   ]
  },
  {
   "cell_type": "code",
   "execution_count": 28,
   "metadata": {},
   "outputs": [
    {
     "data": {
      "text/plain": [
       "['.ipynb_checkpoints',\n",
       " 'collections模块.ipynb',\n",
       " 'DB',\n",
       " 'functools模块.ipynb',\n",
       " 'heapq模块.ipynb',\n",
       " 'inspect模块.ipynb',\n",
       " 'itertools模块.ipynb',\n",
       " 'operator模块.ipynb',\n",
       " 'os模块.ipynb',\n",
       " 'time模块.ipynb',\n",
       " '[Python标准库示例].(The.Python.Standard.Library.by.Example).Doug.Hellmann.文字版.pdf']"
      ]
     },
     "execution_count": 28,
     "metadata": {},
     "output_type": "execute_result"
    }
   ],
   "source": [
    "os.listdir()"
   ]
  },
  {
   "cell_type": "markdown",
   "metadata": {},
   "source": [
    "## 文件遍历\n",
    "`os.walk(top[, topdown=True[, onerror=None[, followlinks=False]]])`方法通过在目录树中游走输出在目录中的文件名，向上或者向下，它是一个简单易用的文件、目录遍历器，可以帮助我们高效的处理文件、目录方面的事情。参数`top`是你所要遍历的文件夹路径。`topdown`，可选参数，为True则优先遍历top目录，否则优先遍历top的子目录，注意这是递归的过程，即这样的“优先”并不仅限于top目录。`onerror`，可选参数，需要一个callable对象，当walk发生异常时，会调用。`followlinks`，可选参数，如果为True，则会遍历目录下的快捷方式（linux下是软连接symbolic link）实际所指的目录，如果为False，则不会这么做  \n",
    "函数返回值是一个三元组`(dirpath, dirnames, filenames)`，dirpath，字符串，代表当前所在目录；dirnames，列表，包含了当前dirpath下所有文件夹的名字；filenames，列表，包含了当前dirpath下所有非文件夹文件的名字  \n",
    "举个例子，假设有如下目录结构：\n",
    "```\n",
    "E:\\Test(Lab)\\mypath>tree /F\n",
    "卷 文档 的文件夹 PATH 列表\n",
    "卷序列号为 91F9-7786\n",
    "E:.\n",
    "│  file1.txt\n",
    "│\n",
    "└─child1\n",
    "    │  file2.txt\n",
    "    │\n",
    "    └─child2\n",
    "            file3.txt\n",
    "```\n",
    "则有：\n",
    "```python\n",
    ">>> import os\n",
    ">>> for i,j,k in os.walk(os.getcwd()):\n",
    "...     print(i,j,k)\n",
    "...\n",
    "E:\\Test(Lab)\\mypath ['child1'] ['file1.txt']\n",
    "E:\\Test(Lab)\\mypath\\child1 ['child2'] ['file2.txt']\n",
    "E:\\Test(Lab)\\mypath\\child1\\child2 [] ['file3.txt']\n",
    "```"
   ]
  },
  {
   "cell_type": "markdown",
   "metadata": {},
   "source": [
    "### 获取指定路径下全部文件\n",
    "方式一，`listdir()`只能列举出文件夹路径下的所有文件名，但是不包括子文件夹下的文件，所以需要运用递归来遍历得到全部文件"
   ]
  },
  {
   "cell_type": "code",
   "execution_count": 29,
   "metadata": {},
   "outputs": [
    {
     "name": "stdout",
     "output_type": "stream",
     "text": [
      " 📂 G:\\muggledy\\anaconda\\jupyter\\Standard library\\\n",
      "     📂 G:\\muggledy\\anaconda\\jupyter\\Standard library\\.ipynb_checkpoints\\\n",
      "         🖹 collections模块-checkpoint.ipynb\n",
      "         🖹 functools模块-checkpoint.ipynb\n",
      "         🖹 heapq模块-checkpoint.ipynb\n",
      "         🖹 inspect模块-checkpoint.ipynb\n",
      "         🖹 itertools模块-checkpoint.ipynb\n",
      "         🖹 operator模块-checkpoint.ipynb\n",
      "         🖹 os模块-checkpoint.ipynb\n",
      "         🖹 time模块-checkpoint.ipynb\n",
      "     🖹 collections模块.ipynb\n",
      "     📂 G:\\muggledy\\anaconda\\jupyter\\Standard library\\DB\\\n",
      "         📂 G:\\muggledy\\anaconda\\jupyter\\Standard library\\DB\\data\\\n",
      "             🖹 mountains.jpg\n",
      "         📂 G:\\muggledy\\anaconda\\jupyter\\Standard library\\DB\\image\\\n",
      "             🖹 1.PNG\n",
      "             🖹 2.PNG\n",
      "             🖹 3.PNG\n",
      "             🖹 4.PNG\n",
      "             🖹 5.png\n",
      "     🖹 functools模块.ipynb\n",
      "     🖹 heapq模块.ipynb\n",
      "     🖹 inspect模块.ipynb\n",
      "     🖹 itertools模块.ipynb\n",
      "     🖹 operator模块.ipynb\n",
      "     🖹 os模块.ipynb\n",
      "     🖹 time模块.ipynb\n",
      "     🖹 [Python标准库示例].(The.Python.Standard.Library.by.Example).Doug.Hellmann.文字版.pdf\n"
     ]
    }
   ],
   "source": [
    "def dir_files(path):\n",
    "    '''打印文件夹路径下的所有文件'''\n",
    "    print(' 📂 '+path+'\\\\')\n",
    "    def recursion_printing(path,depth=1): # depth请不要做任何修改，其表示的意思是：当前递归的深度\n",
    "        for eachFile in os.listdir(path):\n",
    "            each_filePath=os.path.join(path,eachFile)\n",
    "            if os.path.isdir(each_filePath): # 文件夹\n",
    "                print('    '*depth+' 📂 '+each_filePath+'\\\\') # 符号来源于Unicode字符百科\n",
    "                recursion_printing(each_filePath,depth=depth+1)\n",
    "            else: # 文件\n",
    "                print('    '*depth+' 🖹 '+eachFile)\n",
    "    recursion_printing(path)\n",
    "    \n",
    "dir_files(os.getcwd())"
   ]
  },
  {
   "cell_type": "markdown",
   "metadata": {},
   "source": [
    "方式二，使用`walk()`遍历文件夹下的所有文件，这种方式美观一点，文件一堆，文件夹一堆，不像上面，文件、文件夹互相夹杂出现"
   ]
  },
  {
   "cell_type": "code",
   "execution_count": 30,
   "metadata": {},
   "outputs": [
    {
     "name": "stdout",
     "output_type": "stream",
     "text": [
      " 📂 G:\\muggledy\\anaconda\\jupyter\\Standard library\\\n",
      "     🖹 collections模块.ipynb\n",
      "     🖹 functools模块.ipynb\n",
      "     🖹 heapq模块.ipynb\n",
      "     🖹 inspect模块.ipynb\n",
      "     🖹 itertools模块.ipynb\n",
      "     🖹 operator模块.ipynb\n",
      "     🖹 os模块.ipynb\n",
      "     🖹 time模块.ipynb\n",
      "     🖹 [Python标准库示例].(The.Python.Standard.Library.by.Example).Doug.Hellmann.文字版.pdf\n",
      "     📂 G:\\muggledy\\anaconda\\jupyter\\Standard library\\.ipynb_checkpoints\\\n",
      "         🖹 collections模块-checkpoint.ipynb\n",
      "         🖹 functools模块-checkpoint.ipynb\n",
      "         🖹 heapq模块-checkpoint.ipynb\n",
      "         🖹 inspect模块-checkpoint.ipynb\n",
      "         🖹 itertools模块-checkpoint.ipynb\n",
      "         🖹 operator模块-checkpoint.ipynb\n",
      "         🖹 os模块-checkpoint.ipynb\n",
      "         🖹 time模块-checkpoint.ipynb\n",
      "     📂 G:\\muggledy\\anaconda\\jupyter\\Standard library\\DB\\\n",
      "         📂 G:\\muggledy\\anaconda\\jupyter\\Standard library\\DB\\data\\\n",
      "             🖹 mountains.jpg\n",
      "             📂 G:\\muggledy\\anaconda\\jupyter\\Standard library\\DB\\image\\\n",
      "                 🖹 1.PNG\n",
      "                 🖹 2.PNG\n",
      "                 🖹 3.PNG\n",
      "                 🖹 4.PNG\n",
      "                 🖹 5.png\n"
     ]
    }
   ],
   "source": [
    "def dir_files(path):\n",
    "    delay=0; lock1=False; count1=0; count2=0; lock2=False\n",
    "    for index,retval in enumerate(os.walk(path)):\n",
    "        # retval[0],retval[1],retval[2] --> rootPath,dirs,files\n",
    "        print('    '*(index-delay)+' 📂 '+retval[0]+'\\\\')\n",
    "        for f in retval[2]:\n",
    "            print('    '*(1+index-delay)+' 🖹 '+f)\n",
    "        # 注释1\n",
    "        if not lock1 and not lock2: # 初始状态，可以进入\n",
    "            if len(retval[1])>1: # 若子目录长度大于1，才真正进入，并“关门”，将区域1锁存；设置区域1和2的长度，一经修改，直到走出区域2之前不得修改\n",
    "                lock1=True\n",
    "                count1=1\n",
    "                count2=len(retval[1])-1\n",
    "        elif lock1: # 区域1锁住时。说明正处于区域1，即应对count1计数\n",
    "            count1-=1\n",
    "        if count1==0: # 当区域1计数完毕，退出区域1，进入区域2，打开lock1（开锁，置为False），关闭lock2\n",
    "            lock1=False\n",
    "        if not lock1:\n",
    "            if count2>0: # 如果不在区域1，并且count2还不等于0，说明正处于区域2，对其计数并置lock2为True，修改delay\n",
    "                lock2=True\n",
    "                count2-=1\n",
    "                delay+=1\n",
    "            else: # 退出区域2\n",
    "                lock2=False\n",
    "                \n",
    "dir_files(os.getcwd())\n",
    "#注释1（由于年代久远，我自己都看不懂，也不想看了。。）\n",
    "#为了输出缩进美观，下面将判断是否对delay进行加一操作。首先我们要知道os.walk()返回的是一个迭代器，迭代器的每一个元素都是path目录下的一个子（孙）目录，\n",
    "#对于同一目录下的多个子目录（大于1），只有第一个正常缩进（较上次即父目录的缩进数量增一），对于第二个第三个等其余子目录，缩进应与第一个子目录等同，\n",
    "#即无需再增一，但是增一操作已经做过（enumerate返回的index索引从0自增）因此这时应该减一，减一的数量累积由delay保存，如果子目录数量为n(n>=2)，则将其分\n",
    "#成两段，第一段包括一个子目录，第二段包括剩下的所有子目录；当处于第二段的时候对delay增一，因此需分别对两段区域进行count计数，count1=1；count2=n-1；\n",
    "#当处于第一段，只对count1进行减一操作（当等于0时计数完毕），当处于第二段的时候只对count2计数，很显然需要设置两把锁，lock1锁区域1，lock2锁区域2，由于\n",
    "#区域2位于区域1之后，所以只有在区域1计数完毕之后才能打开锁2进入区域2"
   ]
  },
  {
   "cell_type": "markdown",
   "metadata": {},
   "source": [
    "## 创建空文件\n",
    "`os.mknod(filename[, mode=0600[, device=0]])`方法用于创建一个指定文件名的文件系统节点，但请注意，在Windows上没有`mknod()`方法，要创建文件，请使用`open()`方法"
   ]
  },
  {
   "cell_type": "markdown",
   "metadata": {},
   "source": [
    "## 创建文件夹\n",
    "`os.mkdir(path, mode=0o777, *, dir_fd=None)`，如果文件夹（`path`参数，可以是绝对路径也可以是相对路径）已存在，将引发*FileExistsError*异常，另外待创建的文件夹所在目录必须事先存在，否则应该考虑使用`makedirs()`。`mode`设置文件夹权限，在某些系统中该参数被忽略，如果被忽略你应该使用`chmod()`来显式设置它。`dir_fd`参数如果不是None，则应该是*a file descriptor open to a directory*，此时`path`只能是相对路径，该参数是否支持，请使用`os.supports_dir_fd`查看\n",
    "```python\n",
    "os.mkdir('newfolder') #在当前路径下创建名为newfolder的文件夹\n",
    "```"
   ]
  },
  {
   "cell_type": "markdown",
   "metadata": {},
   "source": [
    "## 创建任意深度的文件夹\n",
    "`os.makedirs(name, mode=0o777, exist_ok=False)`，待创建文件夹的目录允许不存在，不论其深度，都创建它，于是同时创建了“中间级文件夹”（目标文件夹所赖以生存的父级目录文件夹）以及“叶子文件夹”（目标文件夹），`mode`参数用于设置叶子文件夹的权限。如果目标已存在，将引发*FileExistsError*异常，如果`exist_ok`参数为True，则不会抛异常\n",
    "```python\n",
    "os.makedirs(os.path.join(os.getcwd(),'daiyang','miaosiyu','newfolder')) #创建了一个深度为3的文件夹\n",
    "```"
   ]
  },
  {
   "cell_type": "markdown",
   "metadata": {},
   "source": [
    "## 复制文件\n",
    "`shutil.copyfile(src_path, dst_path)`将源文件拷贝至目标文件（目标文件允许不存在，但是其所在目录必须存在，如果存在则覆盖），函数返回目标文件路径字符串\n",
    "```python\n",
    "shutil.copy('./file1.txt','./folder/file2.txt') #file2.txt本身可以不存在，但是./folder/必须存在\n",
    "```\n",
    "另一个`shutil.copy(src_path, dst_path)`功能一样（内部就是调用了`copyfile()`函数），唯一的区别是，目标文件路径允许是文件夹，此时目标文件名同源文件名，当然你也可以指定新名字，那就完全和`copyfile`一模一样了。如果不指定新名字，`copy()`完成的操作就是“复制+粘贴”，否则是“复制+粘贴+重命名”，因此我们只要记住`copy()`就行了，少记一个是一个"
   ]
  },
  {
   "cell_type": "markdown",
   "metadata": {},
   "source": [
    "## 复制文件夹\n",
    "使用`shutil.copytree(src_dir, dst_dir)`，两个参数分别是源文件夹（路径）、目标文件夹（路径），将源文件夹中的一切内容复制到新的文件夹下，注意目标事先必须不存在，否则引发异常，而且也不必担心目标文件夹所处目录是否真的存在\n",
    "```python\n",
    "shutil.copytree('./folder1','./haha/folder1_backup') #备份源文件夹folder1下的内容至新的文件夹folder1_backup下，而且./haha/事先也不存在，它会被自动创建，无需担心\n",
    "```"
   ]
  },
  {
   "cell_type": "markdown",
   "metadata": {},
   "source": [
    "## 重命名文件/文件夹\n",
    "`os.rename(src, dst)`用于重命名文件或文件夹\n",
    "```python\n",
    "os.rename('./haha','./hello') #这个示例接着上面而来，将文件夹名称从'haha'改为'hello'\n",
    "os.rename('./file.txt','./newfile.txt') #将文件file.txt名称改为newfile.txt\n",
    "```"
   ]
  },
  {
   "cell_type": "markdown",
   "metadata": {},
   "source": [
    "## 移动文件/文件夹\n",
    "`shutil.move(src, dst)`将一个文件或文件夹移动到另一个位置。移动文件夹：如果目标文件夹（一个路径，路径就是“位置”）已经存在，则将源文件夹整个移动到目标位置下，譬如`shutil.move('./dir1','./dir2')`，其中`./dir2`是已经存在的，操作结果就是，在`./dir2`下面出现了名为`dir1`的文件夹；如果目标文件夹并不存在，不管是一层不存在还是很多层不存在，无所谓，但我们只考虑一层不存在的情况，这表示用户希望移动之后，旧的文件夹名称能变成这个新的文件夹名称（也就是这个不存在的文件夹名称），譬如：`shutil.move('./dir1','./dir2/newdir')`，其中`./dir2/newdir`文件夹并不存在，操作结果就是源文件夹`dir1`下面的一切内容都移动到了新的文件夹`./dir2/newdir/`下面，其实就相当于这几个步骤：复制文件夹`dir1`，粘贴到`./dir2/`下面，重命名`./dir2/dir1`为`./dir2/newdir`。移动文件：类似于`shutil.copy()`函数，目标可以是文件也可以是文件夹，前者表示移动之后重命名（目标文件所在目录必须事先存在，目标文件本身可以存在也可以不存在，如果存在，则其将被覆盖），后者单纯就是移动，移动之后的文件名不变（目标文件夹必须事先存在）\n",
    "```python\n",
    "shutil.move('./file1.txt','./folder') #将文件file1.txt移动到文件夹folder之下，完成后在folder下你就会看到file1.txt文件，注意./folder必须事先存在\n",
    "shutil.move('./file2.txt','./folder/xxx.md') #将文件file2.txt移动到文件夹folder之下，然后再重命名为xxx.md，完成后你会在./folder之下看到文件xxx.md，里面的内容就是旧file2.txt中的内容\n",
    "```"
   ]
  },
  {
   "cell_type": "markdown",
   "metadata": {},
   "source": [
    "## 切换路径\n",
    "`os.chdir(path)`切换当前工作路径，相当于命令行下的`cd`操作"
   ]
  },
  {
   "cell_type": "code",
   "execution_count": 32,
   "metadata": {},
   "outputs": [
    {
     "data": {
      "text/plain": [
       "'E:\\\\'"
      ]
     },
     "execution_count": 32,
     "metadata": {},
     "output_type": "execute_result"
    }
   ],
   "source": [
    "os.chdir('E://')\n",
    "os.getcwd()"
   ]
  },
  {
   "cell_type": "markdown",
   "metadata": {},
   "source": [
    "## 删除文件\n",
    "`os.remove(path)`删除指定路径的文件"
   ]
  },
  {
   "cell_type": "markdown",
   "metadata": {},
   "source": [
    "## 删除文件夹\n",
    "`os.rmdir(path)`删除指定路径的文件夹，但是只能删除空文件夹，要删除一个非空文件夹，需要递归地删除文件，一个简单的替代办法是使用`shutil.rmtree(path)`，不管空不空，都能删除  \n",
    "注，`os.removedirs(path)`删除空的叶子文件夹，还能删除空的中间级文件夹，譬如你可以在任意位置新建三层空目录：`./x/y/z/`，然后你试着删除`removedirs('./x/y/z')`，于是删除的不仅仅是`z/`，还包括其上层文件夹`./x/y/`以及`./x/`，但是必须注意的是，所谓中间级文件夹，只有你在路径中明确指出才行，假设你先`cd`到`./x/y/`下面，然后执行`removedirs('./z')`，那么最后只有`z/`会被删除，而`./x/y/`以及`./x/`仍存在"
   ]
  },
  {
   "cell_type": "markdown",
   "metadata": {},
   "source": [
    "## 修改文件/夹权限\n",
    "`os.chmod(path, mode)`用于更改文件或文件夹的权限为指定的数字（譬如`0o744`表示所有者拥有全部权限，组用户及其它用户只能读，可参考Linux的`chmod`命令），`mode`参数取值还可以是如下<sup>[4]</sup>：\n",
    "```\n",
    "stat.S_IXOTH: 其他用户有执行权 0o001\n",
    "stat.S_IWOTH: 其他用户有写权限 0o002\n",
    "stat.S_IROTH: 其他用户有读权限 0o004\n",
    "stat.S_IRWXO: 其他用户有全部权限 0o007\n",
    "stat.S_IXGRP: 组用户有执行权限 0o010\n",
    "stat.S_IWGRP: 组用户有写权限 0o020\n",
    "stat.S_IRGRP: 组用户有读权限 0o040\n",
    "stat.S_IRWXG: 组用户有全部权限 0o070\n",
    "stat.S_IXUSR: 拥有者具有执行权限 0o100\n",
    "stat.S_IWUSR: 拥有者具有写权限 0o200\n",
    "stat.S_IRUSR: 拥有者具有读权限 0o400\n",
    "stat.S_IRWXU: 拥有者有全部权限 0o700\n",
    "stat.S_ISVTX: 目录里文件目录只有拥有者才可删除更改 0o1000\n",
    "stat.S_ISGID: 执行此文件其进程有效组为文件所在组 0o2000\n",
    "stat.S_ISUID: 执行此文件其进程有效用户为文件所有者 0o4000\n",
    "stat.S_IREAD: windows下设为只读 0o400\n",
    "stat.S_IWRITE: windows下取消只读 0o200\n",
    "```\n",
    "需要注意的是，尽管Windows支持`os.chmod`，但是你只能设置“只读”权限，通过`stat.S_IREAD`和`stat.S_IWRITE`，其它位上的数字将被忽略，也就是对组用户、其它用户权限的设置是不起效的，如果你的系统是Linux的话，可以这样设置权限：\n",
    "```python\n",
    "os.chmod('./myfile',0o744)\n",
    "#或者：\n",
    "os.chmod('./myfile',stat.S_IRWXU|stat.S_IRGRP|stat.S_IROTH)\n",
    "```"
   ]
  },
  {
   "cell_type": "markdown",
   "metadata": {},
   "source": [
    "# stat模块\n",
    "用于解释`os.stat()`、`os.fstat()`、`os.lstat()`的结果"
   ]
  },
  {
   "cell_type": "code",
   "execution_count": 2,
   "metadata": {},
   "outputs": [
    {
     "data": {
      "text/plain": [
       "os.stat_result(st_mode=33206, st_ino=1407374883756025, st_dev=3587367904, st_nlink=1, st_uid=0, st_gid=0, st_size=67271, st_atime=1628311501, st_mtime=1567343663, st_ctime=1567343662)"
      ]
     },
     "execution_count": 2,
     "metadata": {},
     "output_type": "execute_result"
    }
   ],
   "source": [
    "fileStats=os.stat('./DB/data/mountains.jpg')\n",
    "fileStats"
   ]
  },
  {
   "cell_type": "markdown",
   "metadata": {},
   "source": [
    "`os.stat(path)`在给定的`path`上执行一个`stat()`系统调用，返回一个类元组对象（stat_result对象，包含10个元素），其中属性包括：`st_mode`（权限模式）、`st_ino`（inode number）、`st_dev`（device inode resides on）、`st_nlink`（Number of links to the inode）、`st_uid`（所有者的user id）、`st_gid`（所有者的group id）,`st_size`（文件大小，以位为单位）、`st_atime`（最近访问的时间）、`st_mtime`（最近修改的时间）、`st_ctime`（创建的时间）"
   ]
  },
  {
   "cell_type": "code",
   "execution_count": 3,
   "metadata": {},
   "outputs": [
    {
     "data": {
      "text/plain": [
       "1628311501.3551888"
      ]
     },
     "execution_count": 3,
     "metadata": {},
     "output_type": "execute_result"
    }
   ],
   "source": [
    "#获取上次访问时间\n",
    "fileStats.st_atime"
   ]
  },
  {
   "cell_type": "markdown",
   "metadata": {},
   "source": [
    "除了上述通过`.`访问具体某个属性，还可以通过`stat`模块，`stat`模块描述了`os.stat()`所返回的文件属性列表中各值的意义，以下变量对`os.stat()`、`os.fstat()`、`os.lstat()`返回的10元组进行索引（对应的值分别为`0~9`）：\n",
    "```\n",
    "stat.ST_MODE\n",
    "stat.ST_INO\n",
    "stat.ST_DEV\n",
    "stat.ST_NLINK\n",
    "stat.ST_UID\n",
    "stat.ST_GID\n",
    "stat.ST_SIZE\n",
    "stat.ST_ATIME\n",
    "stat.ST_MTIME\n",
    "stat.ST_CTIME\n",
    "```"
   ]
  },
  {
   "cell_type": "code",
   "execution_count": 4,
   "metadata": {},
   "outputs": [
    {
     "data": {
      "text/plain": [
       "1628311501"
      ]
     },
     "execution_count": 4,
     "metadata": {},
     "output_type": "execute_result"
    }
   ],
   "source": [
    "#获取上次访问时间\n",
    "fileStats[stat.ST_ATIME]"
   ]
  },
  {
   "cell_type": "markdown",
   "metadata": {},
   "source": [
    "`stat`模块定义了以下函数用于测试是否属于相应的文件类型：\n",
    "```\n",
    "stat.S_ISDIR(mode)\n",
    "    是否是文件夹\n",
    "stat.S_ISCHR(mode)\n",
    "    if the mode is from a character special device file\n",
    "stat.S_ISBLK(mode)\n",
    "    是否是块设备文件\n",
    "stat.S_ISREG(mode)\n",
    "    是否是一般文件\n",
    "stat.S_ISFIFO(mode)\n",
    "    if the mode is from a FIFO (named pipe)\n",
    "stat.S_ISLNK(mode)\n",
    "    是否是链接文件\n",
    "stat.S_ISSOCK(mode)\n",
    "    是否是套接字文件\n",
    "stat.S_ISDOOR(mode)\n",
    "    if the mode is from a door\n",
    "stat.S_ISPORT(mode)\n",
    "    if the mode is from an event port\n",
    "stat.S_ISWHT(mode)\n",
    "    if the mode is from a whiteout\n",
    "```"
   ]
  },
  {
   "cell_type": "code",
   "execution_count": 5,
   "metadata": {},
   "outputs": [
    {
     "name": "stdout",
     "output_type": "stream",
     "text": [
      "非文件夹\n"
     ]
    }
   ],
   "source": [
    "#判断是否是文件夹\n",
    "if stat.S_ISDIR(fileStats.st_mode):\n",
    "  print('文件夹')\n",
    "else:\n",
    "  print('非文件夹')"
   ]
  },
  {
   "cell_type": "markdown",
   "metadata": {},
   "source": [
    "以下变量用于解释`st_mode`字段的含义：\n",
    "```\n",
    "stat.S_IFSOCK: Socket 0o140000\n",
    "stat.S_IFLNK: 符号链接 0o120000\n",
    "stat.S_IFREG: 一般文件 0o100000\n",
    "stat.S_IFBLK: 块设备 0o60000\n",
    "stat.S_IFDIR: 文件夹 0o40000\n",
    "stat.S_IFCHR: 字符设备 0o20000\n",
    "stat.S_IFIFO: FIFO 0o10000\n",
    "stat.S_IFDOOR: Door 0o0\n",
    "stat.S_IFPORT: Event port 0o0\n",
    "stat.S_IFWHT: Whiteout 0o0\n",
    "```\n",
    "最后三个变量如果为0，表示当前平台不支持这些文件类型。除了上述变量，还包括其它一些变量可以直接用于`os.chmod()`函数的`mode`参数，我已经在*#修改文件/夹权限*标题下列举了了它们，但不是全部"
   ]
  },
  {
   "cell_type": "code",
   "execution_count": 6,
   "metadata": {},
   "outputs": [
    {
     "name": "stdout",
     "output_type": "stream",
     "text": [
      "print(oct(stat.S_IFSOCK))\n",
      "print(oct(stat.S_IFLNK))\n",
      "print(oct(stat.S_IFREG))\n",
      "print(oct(stat.S_IFBLK))\n",
      "print(oct(stat.S_IFDIR))\n",
      "print(oct(stat.S_IFCHR))\n",
      "print(oct(stat.S_IFIFO))\n",
      "print(oct(stat.S_IFDOOR))\n",
      "print(oct(stat.S_IFPORT))\n",
      "print(oct(stat.S_IFWHT))\n",
      "\n"
     ]
    }
   ],
   "source": [
    "x='''stat.S_IFSOCK\n",
    "stat.S_IFLNK\n",
    "stat.S_IFREG\n",
    "stat.S_IFBLK\n",
    "stat.S_IFDIR\n",
    "stat.S_IFCHR\n",
    "stat.S_IFIFO\n",
    "stat.S_IFDOOR\n",
    "stat.S_IFPORT\n",
    "stat.S_IFWHT'''\n",
    "s=''\n",
    "for i in x.split('\\n'):\n",
    "    s+=('print(oct(%s))\\n'%(i))\n",
    "print(s)"
   ]
  },
  {
   "cell_type": "markdown",
   "metadata": {},
   "source": [
    "将文件的`mode`转为人类可阅读的方式："
   ]
  },
  {
   "cell_type": "code",
   "execution_count": 7,
   "metadata": {},
   "outputs": [
    {
     "data": {
      "text/plain": [
       "'-rw-rw-rw-'"
      ]
     },
     "execution_count": 7,
     "metadata": {},
     "output_type": "execute_result"
    }
   ],
   "source": [
    "stat.filemode(fileStats.st_mode)"
   ]
  },
  {
   "cell_type": "markdown",
   "metadata": {},
   "source": [
    "2019/8/30~"
   ]
  },
  {
   "cell_type": "markdown",
   "metadata": {},
   "source": [
    "参考：  \n",
    "[1] https://docs.python.org/3/library/os.path.html?highlight=os%20path#module-os.path path文档  \n",
    "[2] https://docs.python.org/3/library/os.html?highlight=os os模块文档  \n",
    "[3] https://www.cnblogs.com/dianel/p/10073718.html 简介  \n",
    "[4] https://docs.python.org/3/library/stat.html#module-stat stat模块"
   ]
  }
 ],
 "metadata": {
  "kernelspec": {
   "display_name": "Python 3",
   "language": "python",
   "name": "python3"
  },
  "language_info": {
   "codemirror_mode": {
    "name": "ipython",
    "version": 3
   },
   "file_extension": ".py",
   "mimetype": "text/x-python",
   "name": "python",
   "nbconvert_exporter": "python",
   "pygments_lexer": "ipython3",
   "version": "3.6.5"
  },
  "toc": {
   "base_numbering": 1,
   "nav_menu": {},
   "number_sections": true,
   "sideBar": true,
   "skip_h1_title": false,
   "title_cell": "Table of Contents",
   "title_sidebar": "Contents",
   "toc_cell": false,
   "toc_position": {
    "height": "calc(100% - 180px)",
    "left": "10px",
    "top": "150px",
    "width": "384px"
   },
   "toc_section_display": true,
   "toc_window_display": true
  }
 },
 "nbformat": 4,
 "nbformat_minor": 2
}
